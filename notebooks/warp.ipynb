{
 "cells": [
  {
   "cell_type": "code",
   "execution_count": 4,
   "metadata": {},
   "outputs": [],
   "source": [
    "import os"
   ]
  },
  {
   "cell_type": "code",
   "execution_count": 5,
   "metadata": {},
   "outputs": [],
   "source": [
    "train_data_path = '/home/mbarin/Desktop/binary-vae/binary-data/'"
   ]
  },
  {
   "cell_type": "code",
   "execution_count": 6,
   "metadata": {},
   "outputs": [],
   "source": [
    "import glob\n",
    "import numpy as np\n",
    "\n",
    "import torch\n",
    "from torch.utils.data import Dataset\n",
    "import torchvision.transforms as transforms\n",
    "from data_utils import to_rgb\n",
    "from torch.utils.data import DataLoader\n",
    "from PIL import Image\n",
    "import matplotlib.pyplot as plt\n",
    "import json"
   ]
  },
  {
   "cell_type": "code",
   "execution_count": 62,
   "metadata": {},
   "outputs": [],
   "source": [
    "class BEVDataset(Dataset):\n",
    "    def __init__(self, data_path, split):\n",
    "        self.data_path = data_path\n",
    "        self.npz_file_name = 'bev' if split != 'test' else 'arr_0'\n",
    "        self.image_folder = 'bev_binary_npz' if split != 'test' else 'bev_pro'\n",
    "        self.cmd_folder = 'measurements'\n",
    "        self.images, self.cmds = self.prepare_data()\n",
    "        self.transform = transforms.Compose([   transforms.ToTensor(),\n",
    "                                                transforms.CenterCrop(192),\n",
    "                                                \n",
    "                                                ]) \n",
    "\n",
    "        self.class_statistics = {'vehicles':{}}                                                \n",
    "\n",
    "\n",
    "    def prepare_data(self):\n",
    "        main_folders = sorted(os.listdir(self.data_path))\n",
    "        sub_folders = []\n",
    "        for folder in main_folders:\n",
    "            sub_folders_path = self.data_path + folder\n",
    "            sub_folders += glob.glob(sub_folders_path)\n",
    "        \n",
    "        images = []\n",
    "        cmds = []\n",
    "        for folder in sub_folders:\n",
    "            img_paths = folder + '/' + self.image_folder + '/*'\n",
    "            img_paths = sorted(glob.glob(img_paths))\n",
    "            images.extend(img_paths)\n",
    "            \n",
    "            cmd_paths = folder + '/' + self.cmd_folder + '/*'\n",
    "            cmd_paths = sorted(glob.glob(cmd_paths))\n",
    "            cmds.extend(cmd_paths)\n",
    "\n",
    "        return [images[:6]], [cmds[:6]]\n",
    "\n",
    "    def __len__(self):\n",
    "        return len(self.images)\n",
    "\n",
    "    def __getitem__(self, idx):\n",
    "        img_paths = self.images[idx]\n",
    "        cmd_paths = self.cmds[idx]\n",
    "        #print(cmd_path)\n",
    "        \n",
    "        bevs = torch.zeros((6,8,192,192))\n",
    "        bevs_orig = torch.zeros((6,8,192,192))\n",
    "        cmds = torch.zeros((6,4,4))\n",
    "        for i,img_path in enumerate(img_paths):\n",
    "            bev = np.load(img_path).get(self.npz_file_name)\n",
    "            if bev.shape[2] == 9:\n",
    "                bev = np.transpose(bev,(2,0,1)) # make channel dim first\n",
    "\n",
    "            bev_orig = np.delete(bev, 2, axis=0)\n",
    "            bev = np.transpose(bev_orig,(1,2,0))\n",
    "            #bevs_orig[i] = torch.Tensor(bev)\n",
    "            bevs[i] = self.transform(bev)\n",
    "            with open(cmd_paths[i],) as f: \n",
    "                cmds[i] = torch.Tensor(json.load(f)['ego_matrix'])\n",
    "\n",
    "        \n",
    "\n",
    "        return bevs, cmds"
   ]
  },
  {
   "cell_type": "code",
   "execution_count": null,
   "metadata": {},
   "outputs": [],
   "source": []
  },
  {
   "cell_type": "code",
   "execution_count": null,
   "metadata": {},
   "outputs": [],
   "source": []
  },
  {
   "cell_type": "code",
   "execution_count": 19,
   "metadata": {},
   "outputs": [],
   "source": [
    "def visualize(img):\n",
    "    return to_rgb(img)"
   ]
  },
  {
   "cell_type": "code",
   "execution_count": 63,
   "metadata": {},
   "outputs": [],
   "source": [
    "train_data = BEVDataset(train_data_path,split='train')\n",
    "train_dataloader = DataLoader(train_data, batch_size=1, shuffle=True)"
   ]
  },
  {
   "cell_type": "code",
   "execution_count": 64,
   "metadata": {},
   "outputs": [],
   "source": [
    "bev, cmd = next(iter(train_dataloader))"
   ]
  },
  {
   "cell_type": "code",
   "execution_count": 33,
   "metadata": {},
   "outputs": [],
   "source": [
    "def pose_vec2mat(vec: torch.Tensor):\n",
    "    \"\"\"\n",
    "    Convert 6DoF parameters to transformation matrix.\n",
    "    Args:\n",
    "        vec: 6DoF parameters in the order of tx, ty, tz, rx, ry, rz [B,6]\n",
    "    Returns:\n",
    "        A transformation matrix [B,4,4]\n",
    "    \"\"\"\n",
    "    translation = vec[..., :3].unsqueeze(-1)  # [...x3x1]\n",
    "    rot = vec[..., 3:].contiguous()  # [...x3]\n",
    "    rot_mat = euler2mat(rot)  # [...,3,3]\n",
    "    transform_mat = torch.cat([rot_mat, translation], dim=-1)  # [...,3,4]\n",
    "    transform_mat = torch.nn.functional.pad(transform_mat, [0, 0, 0, 1], value=0)  # [...,4,4]\n",
    "    transform_mat[..., 3, 3] = 1.0\n",
    "    return transform_mat"
   ]
  },
  {
   "cell_type": "code",
   "execution_count": null,
   "metadata": {},
   "outputs": [],
   "source": []
  },
  {
   "cell_type": "code",
   "execution_count": 48,
   "metadata": {},
   "outputs": [],
   "source": [
    "def warp_features(x, flow, mode='nearest', spatial_extent=None):\n",
    "    \"\"\" Applies a rotation and translation to feature map x.\n",
    "        Args:\n",
    "            x: (b, c, h, w) feature map\n",
    "            flow: (b, 6) 6DoF vector (only uses the xy poriton)\n",
    "            mode: use 'nearest' when dealing with categorical inputs\n",
    "        Returns:\n",
    "            in plane transformed feature map\n",
    "        \"\"\"\n",
    "    if flow is None:\n",
    "        return x\n",
    "    b, c, h, w = x.shape\n",
    "    # z-rotation\n",
    "    angle = flow[:, 5].clone()  # torch.atan2(flow[:, 1, 0], flow[:, 0, 0])\n",
    "    # x-y translation\n",
    "    translation = flow[:, :2].clone()  # flow[:, :2, 3]\n",
    "\n",
    "    # Normalise translation. Need to divide by how many meters is half of the image.\n",
    "    # because translation of 1.0 correspond to translation of half of the image.\n",
    "    translation[:, 0] /= 1 #spatial_extent[0]\n",
    "    translation[:, 1] /= 1 #spatial_extent[1]\n",
    "    # forward axis is inverted\n",
    "    translation[:, 0] *= -1\n",
    "\n",
    "    cos_theta = torch.cos(angle)\n",
    "    sin_theta = torch.sin(angle)\n",
    "\n",
    "    # output = Rot.input + translation\n",
    "    # tx and ty are inverted as is the case when going from real coordinates to numpy coordinates\n",
    "    # translation_pos_0 -> positive value makes the image move to the left\n",
    "    # translation_pos_1 -> positive value makes the image move to the top\n",
    "    # Angle -> positive value in rad makes the image move in the trigonometric way\n",
    "    transformation = torch.stack([cos_theta, -sin_theta, translation[:, 1],\n",
    "                                  sin_theta, cos_theta, translation[:, 0]], dim=-1).view(b, 2, 3)\n",
    "\n",
    "    # Note that a rotation will preserve distances only if height = width. Otherwise there's\n",
    "    # resizing going on. e.g. rotation of pi/2 of a 100x200 image will make what's in the center of the image\n",
    "    # elongated.\n",
    "    grid = torch.nn.functional.affine_grid(transformation, size=x.shape, align_corners=False)\n",
    "    warped_x = torch.nn.functional.grid_sample(x, grid.float(), mode=mode, padding_mode='zeros', align_corners=False)\n",
    "\n",
    "    return warped_x"
   ]
  },
  {
   "cell_type": "code",
   "execution_count": 35,
   "metadata": {},
   "outputs": [],
   "source": [
    "def mat2pose_vec(matrix: torch.Tensor):\n",
    "    \"\"\"\n",
    "    Converts a 4x4 pose matrix into a 6-dof pose vector\n",
    "    Args:\n",
    "        matrix (ndarray): 4x4 pose matrix\n",
    "    Returns:\n",
    "        vector (ndarray): 6-dof pose vector comprising translation components (tx, ty, tz) and\n",
    "        rotation components (rx, ry, rz)\n",
    "    \"\"\"\n",
    "\n",
    "    # M[1, 2] = -sinx*cosy, M[2, 2] = +cosx*cosy\n",
    "    rotx = torch.atan2(-matrix[..., 1, 2], matrix[..., 2, 2])\n",
    "\n",
    "    # M[0, 2] = +siny, M[1, 2] = -sinx*cosy, M[2, 2] = +cosx*cosy\n",
    "    cosy = torch.sqrt(matrix[..., 1, 2] ** 2 + matrix[..., 2, 2] ** 2)\n",
    "    roty = torch.atan2(matrix[..., 0, 2], cosy)\n",
    "\n",
    "    # M[0, 0] = +cosy*cosz, M[0, 1] = -cosy*sinz\n",
    "    rotz = torch.atan2(-matrix[..., 0, 1], matrix[..., 0, 0])\n",
    "\n",
    "    rotation = torch.stack((rotx, roty, rotz), dim=-1)\n",
    "\n",
    "    # Extract translation params\n",
    "    translation = matrix[..., :3, 3]\n",
    "    return torch.cat((translation, rotation), dim=-1)"
   ]
  },
  {
   "cell_type": "code",
   "execution_count": 49,
   "metadata": {},
   "outputs": [],
   "source": [
    "def cumulative_warp_features(x, flow, mode='nearest', spatial_extent=None):\n",
    "    \"\"\" Warps a sequence of feature maps by accumulating incremental 2d flow.\n",
    "    x[:, -1] remains unchanged\n",
    "    x[:, -2] is warped using flow[:, -2]\n",
    "    x[:, -3] is warped using flow[:, -3] @ flow[:, -2]\n",
    "    ...\n",
    "    x[:, 0] is warped using flow[:, 0] @ ... @ flow[:, -3] @ flow[:, -2]\n",
    "    Args:\n",
    "        x: (b, t, c, h, w) sequence of feature maps\n",
    "        flow: (b, t, 6) sequence of 6 DoF pose  xxxxx flow --> matrix\n",
    "            from t to t+1 (only uses the xy poriton)\n",
    "    \"\"\"\n",
    "    sequence_length = x.shape[1]\n",
    "    if sequence_length == 1:\n",
    "        return x\n",
    "    print('X ', x.shape)\n",
    "    print('FLOW ', flow.shape)\n",
    "    #flow = pose_vec2mat(flow)\n",
    "    \n",
    "    #flow = flow.view(-1,4,4)  # b,t,4,4\n",
    "    print('FLOW ', flow.shape)\n",
    "\n",
    "    out = [x[:, -1]]\n",
    "    cum_flow = flow[:, -2]\n",
    "    \n",
    "    print('out ', out[0].shape)\n",
    "    print('cum flow ', cum_flow.shape)\n",
    "    \n",
    "    for t in reversed(range(sequence_length - 1)):\n",
    "        out.append(warp_features(x[:, t], mat2pose_vec(cum_flow), mode=mode, spatial_extent=spatial_extent))\n",
    "        # @ is the equivalent of torch.bmm\n",
    "        cum_flow = flow[:, t - 1] @ cum_flow\n",
    "\n",
    "    return torch.stack(out[::-1], 1)"
   ]
  },
  {
   "cell_type": "code",
   "execution_count": 50,
   "metadata": {},
   "outputs": [
    {
     "name": "stdout",
     "output_type": "stream",
     "text": [
      "X  torch.Size([1, 6, 8, 192, 192])\n",
      "FLOW  torch.Size([1, 6, 4, 4])\n",
      "FLOW  torch.Size([1, 6, 4, 4])\n",
      "out  torch.Size([1, 8, 192, 192])\n",
      "cum flow  torch.Size([1, 4, 4])\n"
     ]
    }
   ],
   "source": [
    "warped = cumulative_warp_features(bev,torch.Tensor(cmd))"
   ]
  },
  {
   "cell_type": "code",
   "execution_count": 51,
   "metadata": {},
   "outputs": [
    {
     "data": {
      "text/plain": [
       "torch.Size([1, 6, 8, 192, 192])"
      ]
     },
     "execution_count": 51,
     "metadata": {},
     "output_type": "execute_result"
    }
   ],
   "source": [
    "warped.shape"
   ]
  },
  {
   "cell_type": "code",
   "execution_count": 24,
   "metadata": {},
   "outputs": [
    {
     "data": {
      "text/plain": [
       "torch.Size([4, 4])"
      ]
     },
     "execution_count": 24,
     "metadata": {},
     "output_type": "execute_result"
    }
   ],
   "source": [
    "torch.Tensor(cmd).shape"
   ]
  },
  {
   "cell_type": "code",
   "execution_count": 74,
   "metadata": {},
   "outputs": [
    {
     "name": "stdout",
     "output_type": "stream",
     "text": [
      "torch.Size([8, 192, 192])\n",
      "torch.Size([8, 192, 192])\n",
      "torch.Size([8, 192, 192])\n",
      "torch.Size([8, 192, 192])\n",
      "torch.Size([8, 192, 192])\n",
      "torch.Size([8, 192, 192])\n"
     ]
    },
    {
     "data": {
      "image/png": "[encoded data removed]",
      "text/plain": [
       "<Figure size 1500x1500 with 6 Axes>"
      ]
     },
     "metadata": {},
     "output_type": "display_data"
    }
   ],
   "source": [
    "fig, axs = plt.subplots(1,6,figsize=(15, 15))\n",
    "\n",
    "\n",
    "for i, b in enumerate(bev[0]):\n",
    "    print(b.shape)\n",
    "    bev_rgb_ = torch.permute(visualize(b),(1,2,0))  / 255\n",
    "\n",
    "    axs[i].imshow(bev_rgb_)\n",
    "            \n",
    "plt.show() \n",
    "#plt.imsave(fig,\"data_exploration/original_bevs.png\")"
   ]
  },
  {
   "cell_type": "code",
   "execution_count": 75,
   "metadata": {},
   "outputs": [
    {
     "name": "stdout",
     "output_type": "stream",
     "text": [
      "torch.Size([8, 192, 192])\n",
      "torch.Size([8, 192, 192])\n",
      "torch.Size([8, 192, 192])\n",
      "torch.Size([8, 192, 192])\n",
      "torch.Size([8, 192, 192])\n",
      "torch.Size([8, 192, 192])\n"
     ]
    },
    {
     "data": {
      "image/png": "[encoded data removed]",
      "text/plain": [
       "<Figure size 1500x1500 with 6 Axes>"
      ]
     },
     "metadata": {},
     "output_type": "display_data"
    }
   ],
   "source": [
    "fig, axs = plt.subplots(1,6,figsize=(15, 15))\n",
    "\n",
    "\n",
    "for i, b in enumerate(warped[0]):\n",
    "    print(b.shape)\n",
    "    bev_rgb_ = torch.permute(visualize(b),(1,2,0))  / 255\n",
    "\n",
    "    axs[i].imshow(bev_rgb_)\n",
    "            \n",
    "plt.show() "
   ]
  }
 ],
 "metadata": {
  "kernelspec": {
   "display_name": "Python 3 (ipykernel)",
   "language": "python",
   "name": "python3"
  },
  "language_info": {
   "codemirror_mode": {
    "name": "ipython",
    "version": 3
   },
   "file_extension": ".py",
   "mimetype": "text/x-python",
   "name": "python",
   "nbconvert_exporter": "python",
   "pygments_lexer": "ipython3",
   "version": "3.8.0"
  }
 },
 "nbformat": 4,
 "nbformat_minor": 2
}
